{
 "cells": [
  {
   "cell_type": "code",
   "execution_count": 2,
   "id": "a9ce3a21-2b16-4ec3-9808-6931c9ed7264",
   "metadata": {},
   "outputs": [],
   "source": [
    "# Importación de librerias\n",
    "import json\n",
    "import ipywidgets as widgets\n",
    "from IPython.display import display, clear_output"
   ]
  },
  {
   "cell_type": "code",
   "execution_count": 3,
   "id": "307e720b-dd71-47a3-b524-66372c15a734",
   "metadata": {},
   "outputs": [],
   "source": [
    "# Importación de variables de entorno\n",
    "from dotenv import load_dotenv\n",
    "import os\n",
    "\n",
    "load_dotenv()\n",
    "\n",
    "API_KEY = os.getenv(\"COHERE_API_KEY\")\n",
    "# print (API_KEY)"
   ]
  },
  {
   "cell_type": "code",
   "execution_count": 4,
   "id": "f0ecf3bb-780f-4da4-a764-05b9803fb057",
   "metadata": {},
   "outputs": [
    {
     "name": "stdout",
     "output_type": "stream",
     "text": [
      "Hello! How can I help you today?\n"
     ]
    }
   ],
   "source": [
    "# Conexión a Cohere\n",
    "import cohere\n",
    "COHERE = cohere.ClientV2()\n",
    "\n",
    "response = COHERE.chat(\n",
    "    model=\"command-r-plus-08-2024\",\n",
    "    messages=[{\"role\": \"user\", \"content\": \"hello world!\"}],\n",
    ")\n",
    "\n",
    "print(response.message.content[0].text)"
   ]
  },
  {
   "cell_type": "raw",
   "id": "d9022576-9bf9-447d-a955-d3d3099e9e6f",
   "metadata": {},
   "source": []
  },
  {
   "cell_type": "code",
   "execution_count": 5,
   "id": "3bd4324c-e99d-4c11-a3ef-2e8c886bbfbb",
   "metadata": {
    "scrolled": true
   },
   "outputs": [
    {
     "data": {
      "application/vnd.jupyter.widget-view+json": {
       "model_id": "35bb13627d43492681ad12c1c5f89824",
       "version_major": 2,
       "version_minor": 0
      },
      "text/plain": [
       "Text(value='', placeholder='Escribe tu mensaje aquí...')"
      ]
     },
     "metadata": {},
     "output_type": "display_data"
    },
    {
     "data": {
      "application/vnd.jupyter.widget-view+json": {
       "model_id": "f14e951f0c1d4b3ab657a10dfab4cab3",
       "version_major": 2,
       "version_minor": 0
      },
      "text/plain": [
       "Button(description='Enviar', style=ButtonStyle())"
      ]
     },
     "metadata": {},
     "output_type": "display_data"
    },
    {
     "data": {
      "application/vnd.jupyter.widget-view+json": {
       "model_id": "e1f2e70f4e96433194caf59c9737a133",
       "version_major": 2,
       "version_minor": 0
      },
      "text/plain": [
       "Output()"
      ]
     },
     "metadata": {},
     "output_type": "display_data"
    },
    {
     "name": "stdout",
     "output_type": "stream",
     "text": [
      "[]\n"
     ]
    }
   ],
   "source": [
    "#Ejercicio 4\n",
    "\n",
    "#Crear widgets de entrada y salida\n",
    "\n",
    "input_box = widgets.Text(placeholder='Escribe tu mensaje aquí...')\n",
    "send_button = widgets.Button(description='Enviar')\n",
    "output_box = widgets.Output()\n",
    "\n",
    "# Historial de conversación (Lista de diccionarios)\n",
    "chat_history= []\n",
    "\n",
    "# Función para obtener una respuesta dinámica.\n",
    "def chatbot_response(message):\n",
    "    # Verificar si el mensaje está vacío\n",
    "    if not message.strip():\n",
    "        return \"¡Ups! No escribiste nada. 😅\"\n",
    "\n",
    "    #Historial de mensaje que se va a enviará al modelo \n",
    "    messages = [{\"role\": \"system\", \"content\": \"Responde amigablemente y con emojis\"}]\n",
    "    \n",
    "    # Agregar mensajes anteriores del historial\n",
    "    for entry in chat_history:\n",
    "        messages.append({\"role\": \"user\", \"content\": entry[\"user\"]})\n",
    "        messages.append({\"role\": \"chatbot\", \"content\": entry[\"chatbot\"]})\n",
    "\n",
    "    # Añadir el mensaje del usuario al historial de mensajes para enviar al modelo\n",
    "    messages.append({\"role\": \"user\", \"content\": message})\n",
    "    \n",
    "    # Obtener el último mensaje del usuario\n",
    "    #user_message = input_box.value.strip()\n",
    "\n",
    "    # Llamada al modelo\n",
    "    response = COHERE.chat(\n",
    "            model='command-r-plus-08-2024',\n",
    "            messages = messages,\n",
    "            max_tokens=70  \n",
    "        )\n",
    "    # Retorno de la respuesta generada por el modelo\n",
    "    return response.message.content[0].text \n",
    "\n",
    "\n",
    "# Función de manejo del botón\n",
    "def on_send_button_clicked(b):\n",
    "    global chat_history\n",
    "    \n",
    "    with output_box:\n",
    "        clear_output(wait=True)\n",
    "        user_message = input_box.value.strip()\n",
    "        \n",
    "        # Verificar si el mensaje del usuario no está vacío\n",
    "        if user_message:\n",
    "            # Agregar el mensaje del usuario a un diccionario\n",
    "            chat_entry = {\"user\": user_message}\n",
    "            \n",
    "            # Generar respuesta del chatbot con el contexto dado\n",
    "            response = chatbot_response(user_message)\n",
    "            \n",
    "            # Extraer el texto correctamente y asignarlo\n",
    "            chat_entry[\"chatbot\"] = response\n",
    "\n",
    "            # Agregar la entrada al historial\n",
    "            chat_history.append(chat_entry)\n",
    "\n",
    "            # Limitar el historial a 3 interacciones\n",
    "            if len(chat_history) > 3:\n",
    "                chat_history.pop(0)\n",
    "\n",
    "            # Mostrar todo el historial de la conversación\n",
    "            for entry in chat_history:\n",
    "                print(f\"Tú: {entry['user']}\")\n",
    "                print(f\"Chatbot: {entry['chatbot']}\")\n",
    "        \n",
    "        # Limpiar la caja de entrada\n",
    "        input_box.value = ''\n",
    "\n",
    "# Asociar la función de manejo del botón\n",
    "send_button.on_click(on_send_button_clicked)\n",
    "\n",
    "# Mostrar los widgets de entrada, botón y salida\n",
    "display(input_box, send_button, output_box)\n",
    "\n",
    "print(chat_history)\n",
    "\n",
    "# Ejemplo de una conversación realizada.\n",
    "#Tú: Dime en uha oración quienes son los integrantes de The Beatles\n",
    "#Chatbot: Los integrantes de The Beatles fueron John Lennon, Paul McCartney, George Harrison y Ringo Starr. 😎\n",
    "#Tú: Gracias! Dime también en que año nació la banda musical\n",
    "#Chatbot: ¡De nada! 😊 The Beatles se formó en 1960 en Liverpool, Inglaterra. 🎶 Fue una de las bandas más influyentes e icónicas de la historia de la música. ¿Te gustaría saber más sobre ellos? 😁\n",
    "#Tú: Solamente dime de forma corta, en que año nació cada uno de los integrantes\n",
    "#Chatbot: ¡Claro! Aquí te dejo los años de nacimiento de cada Beatle:\n",
    "\n",
    "#- John Lennon: 1940\n",
    "#- Paul McCartney: 1942\n",
    "#- George Harrison: 1943\n",
    "#- Ringo Starr: 1940\n",
    "#🌟 ¡Una banda de talentosos músicos"
   ]
  },
  {
   "cell_type": "code",
   "execution_count": null,
   "id": "1bd16f03-8ce1-4bf3-8aef-40d0802fd18a",
   "metadata": {},
   "outputs": [],
   "source": []
  }
 ],
 "metadata": {
  "kernelspec": {
   "display_name": "Python 3 (ipykernel)",
   "language": "python",
   "name": "python3"
  },
  "language_info": {
   "codemirror_mode": {
    "name": "ipython",
    "version": 3
   },
   "file_extension": ".py",
   "mimetype": "text/x-python",
   "name": "python",
   "nbconvert_exporter": "python",
   "pygments_lexer": "ipython3",
   "version": "3.12.7"
  }
 },
 "nbformat": 4,
 "nbformat_minor": 5
}
