{
 "cells": [
  {
   "cell_type": "code",
   "execution_count": 1,
   "id": "16ba29f1-5bb9-4fb7-a99a-13c84af3936d",
   "metadata": {},
   "outputs": [],
   "source": [
    "# Importación de librerias\n",
    "import json\n",
    "import ipywidgets as widgets\n",
    "from IPython.display import display, clear_output"
   ]
  },
  {
   "cell_type": "code",
   "execution_count": 2,
   "id": "d5f65398-1701-41ad-b894-e27b2efd2795",
   "metadata": {},
   "outputs": [],
   "source": [
    "# Importación de variables de entorno\n",
    "from dotenv import load_dotenv\n",
    "import os\n",
    "\n",
    "load_dotenv()\n",
    "\n",
    "API_KEY = os.getenv(\"COHERE_API_KEY\")\n",
    "# print (API_KEY)"
   ]
  },
  {
   "cell_type": "code",
   "execution_count": 3,
   "id": "b43ca634-f864-480a-bc73-be02ec527727",
   "metadata": {},
   "outputs": [
    {
     "name": "stdout",
     "output_type": "stream",
     "text": [
      "Hello! How can I help you today?\n"
     ]
    }
   ],
   "source": [
    "# Conexión a Cohere\n",
    "import cohere\n",
    "COHERE = cohere.ClientV2()\n",
    "\n",
    "response = COHERE.chat(\n",
    "    model=\"command-r-plus-08-2024\",\n",
    "    messages=[{\"role\": \"user\", \"content\": \"hello world!\"}],\n",
    ")\n",
    "\n",
    "print(response.message.content[0].text)"
   ]
  },
  {
   "cell_type": "code",
   "execution_count": 18,
   "id": "ffe5bfe8-b470-41dc-9194-2a0f4e075eec",
   "metadata": {
    "scrolled": true
   },
   "outputs": [
    {
     "name": "stdout",
     "output_type": "stream",
     "text": [
      "Thomas es un joven campesino de dieciséis años que vive en un feudo medieval. Es parte de una familia campesina que depende de la agricultura para su sustento y para pagar los impuestos al señor feudal.\n",
      "\n",
      "Cuando el reino entra en guerra, Thomas, al igual que muchos otros jóvenes, es reclutado para luchar en el ejército. A pesar de su falta de entrenamiento, se ve obligado a enfrentarse a la brutalidad del campo de batalla, donde experimenta la muerte y la violencia de primera mano.\n",
      "\n",
      "La batalla deja una marca indeleble en Thomas, robándole su inocencia y cambiándolo para siempre.\n",
      " Hakuna Matata!\n"
     ]
    }
   ],
   "source": [
    "# EJERCICIO 3\n",
    "historia =  \"\"\"En un pequeño feudo medieval, Thomas, un joven campesino de dieciséis años, trabajaba desde el amanecer en los campos de trigo del señor feudal. El sol apenas había salido cuando él ya había arado más de lo que sus manos podían soportar. La vida era dura, pero su familia dependía de la cosecha para pagar los impuestos y mantener su hogar de madera y paja.\n",
    "Un día, el feudo fue sacudido por noticias de guerra. El rey había llamado a todos los hombres en edad de luchar. Thomas sabía que, al igual que otros jóvenes, no tenía elección. Cambió la hoz por una lanza rudimentaria y se unió a la milicia local. Sin entrenamiento, fue empujado a un campo de batalla embarrado, donde el acero resonaba y los gritos de los hombres llenaban el aire.\n",
    "La batalla fue un caos. Thomas, con el corazón latiendo en su pecho como un tambor de guerra, apenas podía distinguir amigo de enemigo. Logró esquivar una espada, pero cayó al suelo, cubierto de lodo y sangre. Levantándose, vio cómo un compañero caía junto a él, sus ojos abiertos, vacíos.\n",
    "Cuando la batalla terminó, el silencio era tan profundo como el vacío que sentía. Thomas regresó al feudo, diferente, marcado por la muerte y la violencia. Su madre lo recibió con lágrimas en los ojos, pero él, con la mirada fija en el horizonte, sabía que la inocencia había quedado atrás, enterrada en aquel campo de batalla. La paz del feudo ya no era la misma; él tampoco.\"\"\"\n",
    "\n",
    "def history_answer(pregunta):\n",
    "    \"\"\"\n",
    "    La función responde a preguntas realizadas sobre la historia\n",
    "    Parámetros:\n",
    "        pregunta(string): Pregunta sobre la historia.\n",
    "    Retorna:\n",
    "        string: Respuesta a la pregunta realizada\n",
    "    \"\"\"\n",
    "    # System prompt\n",
    "    system_prompt= \"\"\"Tu tarea es responder a las preguntas realizadas unicamente sobre la historia dada como contexto, si la pregunta\n",
    "    no tiene relación con el contexto debes responder 'Lo siento no puedo ayudarte con eso'. \"\"\"\n",
    "\n",
    "    # Formatea el mensaje con la historia y la pregunta\n",
    "    prompt = f\"\"\"\n",
    "    ### Instrucciones:\n",
    "     -Responde basándote en la historia.\n",
    "    ###\n",
    "    Historia:\n",
    "    {historia}\n",
    "    ###\n",
    "    Pregunta:\n",
    "    {pregunta}\n",
    "    \"\"\"\n",
    "\n",
    "    #Llamada al modelo\n",
    "    response = COHERE.chat(\n",
    "        model=\"command-r-plus-08-2024\",\n",
    "        messages=[\n",
    "            {\"role\": \"system\", \"content\":system_prompt},\n",
    "            {\"role\": \"user\", \"content\": prompt}\n",
    "        ]\n",
    "    )\n",
    "\n",
    "    # Obtener la respuesta generada\n",
    "    try:\n",
    "        respuesta = response.message.content[0].text.strip()  # Acceder correctamente al contenido\n",
    "    except AttributeError:\n",
    "        print(\"Error: No se pudo acceder al contenido de la respuesta.\")\n",
    "        return None\n",
    "            \n",
    "    return respuesta\n",
    "\n",
    "#Ejemplo de uso\n",
    "pregunta = \"¿Quién es Thomas?\"\n",
    "resp= history_answer(pregunta)\n",
    "print(resp + \"\\n Hakuna Matata!\")"
   ]
  },
  {
   "cell_type": "code",
   "execution_count": 23,
   "id": "02a49821-3913-4451-824f-5a7729d40239",
   "metadata": {
    "scrolled": true
   },
   "outputs": [
    {
     "name": "stdout",
     "output_type": "stream",
     "text": [
      "Thomas es un joven campesino de dieciséis años que vive en un pequeño feudo medieval. Trabaja arduamente en los campos de trigo del señor feudal. Cuando se desata la guerra, es llamado a luchar junto con otros hombres en edad de hacerlo. Sin entrenamiento, se enfrenta a una batalla brutal, donde experimenta la muerte y la violencia de primera mano. Tras la batalla, regresa a su hogar cambiado y marcado por la experiencia.\n",
      " Hakuna Matata!\n"
     ]
    }
   ],
   "source": [
    "# EJERCICIO 3\n",
    "\n",
    "def history_answer(pregunta):\n",
    "    \"\"\"\n",
    "    La función responde a preguntas realizadas sobre la historia\n",
    "    Parámetros:\n",
    "        pregunta(string): Pregunta sobre la historia.\n",
    "    Retorna:\n",
    "        string: Respuesta a la pregunta realizada\n",
    "    \"\"\"\n",
    "        # System prompt\n",
    "    system_prompt= \"\"\"Tu tarea es responder a las preguntas realizadas unicamente sobre la historia dada como contexto, si la pregunta\n",
    "    no tiene relación con el contexto debes responder 'Lo siento no puedo ayudarte con eso'. \"\"\"\n",
    "    \n",
    "    # Formatea el mensaje con la historia y la pregunta\n",
    "    prompt = f\"\"\"\n",
    "    ### Instrucciones:\n",
    "    -Debes responder en el idioma en el que se te pregunta. \n",
    "    ###\n",
    "    Historia:\n",
    "    {historia}\n",
    "    ###\n",
    "    Pregunta:\n",
    "    {pregunta}\n",
    "    \"\"\"\n",
    "\n",
    "    #Llamada al modelo\n",
    "    response = COHERE.chat(\n",
    "        model=\"c4ai-aya-expanse-32b\",\n",
    "        messages=[\n",
    "            {\"role\": \"system\", \"content\":system_prompt},\n",
    "            {\"role\": \"user\", \"content\": prompt}\n",
    "        ]\n",
    "    )\n",
    "\n",
    "    # Obtener la respuesta generada\n",
    "    try:\n",
    "        respuesta = response.message.content[0].text.strip()  # Acceder correctamente al contenido\n",
    "    except AttributeError:\n",
    "        print(\"Error: No se pudo acceder al contenido de la respuesta.\")\n",
    "        return None\n",
    "            \n",
    "    return respuesta\n",
    "\n",
    "\n",
    "#Ejemplo de uso\n",
    "pregunta = \"Who is Thomas?\"\n",
    "resp= history_answer(pregunta)\n",
    "print(resp + \"\\n Hakuna Matata!\")\n",
    "\n",
    "    "
   ]
  },
  {
   "cell_type": "code",
   "execution_count": 22,
   "id": "42207085-24ea-4b24-bab7-01bcfd7f9bb0",
   "metadata": {},
   "outputs": [
    {
     "name": "stdout",
     "output_type": "stream",
     "text": [
      "El joven campesino, Thomas, tiene dieciséis años.\n",
      " Hakuna Matata!\n"
     ]
    }
   ],
   "source": [
    "# EJERCICIO 3\n",
    "\n",
    "def history_answer(pregunta):\n",
    "    \"\"\"\n",
    "    La función responde a preguntas realizadas sobre la historia\n",
    "    Parámetros:\n",
    "        pregunta(string): Pregunta sobre la historia.\n",
    "    Retorna:\n",
    "        string: Respuesta a la pregunta realizada\n",
    "    \"\"\"\n",
    "    \n",
    "    # System prompt\n",
    "    system_prompt= \"\"\"Tu tarea es responder a las preguntas realizadas unicamente sobre la historia dada como contexto, si la pregunta\n",
    "    no tiene relación con el contexto debes responder 'Lo siento no puedo ayudarte con eso'. \"\"\"\n",
    "    \n",
    "    # Formatea el mensaje con la historia y la pregunta\n",
    "    prompt = f\"\"\"\n",
    "    ### Instrucciones:\n",
    "    -Responde en una sola oración.\n",
    "    ###\n",
    "    Historia:\n",
    "    {historia}\n",
    "    ###\n",
    "    Pregunta:\n",
    "    {pregunta}\n",
    "    \"\"\"\n",
    "\n",
    "#Llamada al modelo\n",
    "    response = COHERE.chat(\n",
    "    model=\"command-r-plus-08-2024\",\n",
    "    messages=[\n",
    "        {\"role\": \"system\", \"content\":system_prompt},\n",
    "        {\"role\": \"user\", \"content\": prompt}\n",
    "    ]\n",
    ")\n",
    "\n",
    "# Obtener la respuesta generada\n",
    "    try:\n",
    "        respuesta = response.message.content[0].text.strip()  # Acceder correctamente al contenido\n",
    "    except AttributeError:\n",
    "        print(\"Error: No se pudo acceder al contenido de la respuesta.\")\n",
    "        return None\n",
    "        \n",
    "    return respuesta\n",
    "\n",
    "#Ejemplo de uso\n",
    "pregunta = \"¿Cuantos años tiene el joven campesino?\"\n",
    "resp= history_answer(pregunta)\n",
    "print(resp + \"\\n Hakuna Matata!\")"
   ]
  },
  {
   "cell_type": "code",
   "execution_count": 21,
   "id": "0649bcfb-84ef-4141-9cda-5b604f3a613d",
   "metadata": {},
   "outputs": [
    {
     "name": "stdout",
     "output_type": "stream",
     "text": [
      "El señor feudal 🪖 es el propietario de las tierras y señor de los campesinos que viven y trabajan en su feudo. En esta historia, es la figura que gobierna el pequeño feudo medieval y a quien Thomas y su familia deben pagar impuestos con su cosecha. Es común que en este tipo de sistemas medievales, los campesinos estuvieran sujetos a las decisiones y demandas de su señor, incluyendo el pago de tributos y, a veces, el servicio militar, como se ve en la historia de Thomas.\n",
      " Hakuna Matata!\n"
     ]
    }
   ],
   "source": [
    "# EJERCICIO 3\n",
    "def history_answer(pregunta):\n",
    "    \"\"\"\n",
    "    La función responde a preguntas realizadas sobre la historia\n",
    "    Parámetros:\n",
    "        pregunta(string): Pregunta sobre la historia.\n",
    "    Retorna:\n",
    "        string: Respuesta a la pregunta realizada\n",
    "    \"\"\"\n",
    "\n",
    "    # System prompt\n",
    "    system_prompt= \"\"\"Tu tarea es responder a las preguntas realizadas unicamente sobre la historia dada como contexto, si la pregunta\n",
    "    no tiene relación con el contexto debes responder 'Lo siento no puedo ayudarte con eso'. \"\"\"\n",
    "    \n",
    "    # Formatea el mensaje con la historia y la pregunta\n",
    "    prompt = f\"\"\"\n",
    "    ### Instrucciones:\n",
    "    -Debes agregar emojis que estén relacionados con la historia\n",
    "    ###\n",
    "    Historia:\n",
    "    {historia}\n",
    "    ###\n",
    "    Pregunta:\n",
    "    {pregunta}\n",
    "    \"\"\"\n",
    "\n",
    "    #Llamada al modelo\n",
    "    response = COHERE.chat(\n",
    "    model=\"command-r-plus-08-2024\",\n",
    "    messages=[\n",
    "        {\"role\": \"system\", \"content\":system_prompt},\n",
    "        {\"role\": \"user\", \"content\": prompt}\n",
    "    ]\n",
    ")\n",
    "\n",
    "# Obtener la respuesta generada\n",
    "    try:\n",
    "        respuesta = response.message.content[0].text.strip()  # Acceder correctamente al contenido\n",
    "    except AttributeError:\n",
    "        print(\"Error: No se pudo acceder al contenido de la respuesta.\")\n",
    "        return None\n",
    "        \n",
    "    return respuesta\n",
    "\n",
    "#Ejemplo de uso\n",
    "pregunta = \"¿Quien es el señor Feudal?\"\n",
    "resp= history_answer(pregunta)\n",
    "print(resp + \"\\n Hakuna Matata!\")"
   ]
  },
  {
   "cell_type": "code",
   "execution_count": 19,
   "id": "d6d334ed-7435-40c8-b82e-ee9f6a85314d",
   "metadata": {},
   "outputs": [
    {
     "name": "stdout",
     "output_type": "stream",
     "text": [
      "Lo siento, no puedo ayudarte con eso. Tu pregunta no está relacionada con la historia proporcionada. Estoy aquí para responder a cualquier duda o curiosidad que tengas sobre el contexto dado, en el que se narra la experiencia de Thomas, un joven campesino que se ve envuelto en una guerra y cómo esto impacta su vida.\n",
      " Hakuna Matata!\n"
     ]
    }
   ],
   "source": [
    "# EJERCICIO 3\n",
    "\n",
    "def history_answer(pregunta):\n",
    "    \"\"\"\n",
    "    La función responde a preguntas realizadas sobre la historia\n",
    "    Parámetros:\n",
    "        pregunta(string): Pregunta sobre la historia.\n",
    "    Retorna:\n",
    "        string: Respuesta a la pregunta realizada\n",
    "    \"\"\"\n",
    "\n",
    "    # System prompt\n",
    "    system_prompt= \"\"\"Tu tarea es responder a las preguntas realizadas unicamente sobre la historia dada como contexto, si la pregunta\n",
    "    no tiene relación con el contexto debes responder 'Lo siento no puedo ayudarte con eso'. \"\"\"\n",
    "    \n",
    "    # Formatea el mensaje con la historia y la pregunta\n",
    "    prompt = f\"\"\"\n",
    "    Historia:\n",
    "    {historia}\n",
    "    ###\n",
    "    Pregunta:\n",
    "    {pregunta}\n",
    "    \"\"\"\n",
    "\n",
    "    #Llamada al modelo\n",
    "    response = COHERE.chat(\n",
    "    model=\"command-r-plus-08-2024\",\n",
    "    messages=[\n",
    "        {\"role\": \"system\", \"content\":system_prompt},\n",
    "        {\"role\": \"user\", \"content\": prompt}\n",
    "    ]\n",
    ")\n",
    "# Obtener la respuesta generada\n",
    "    try:\n",
    "        respuesta = response.message.content[0].text.strip()  # Acceder correctamente al contenido\n",
    "    except AttributeError:\n",
    "        print(\"Error: No se pudo acceder al contenido de la respuesta.\")\n",
    "        return None\n",
    "        \n",
    "    return respuesta\n",
    "\n",
    "#Ejemplo de uso\n",
    "pregunta = \"¿Quien es peter Pan?\"\n",
    "resp= history_answer(pregunta)\n",
    "print(resp + \"\\n Hakuna Matata!\")\n",
    "\n"
   ]
  },
  {
   "cell_type": "code",
   "execution_count": null,
   "id": "62746de5-19c3-4980-84b1-92cbdb80c83d",
   "metadata": {},
   "outputs": [],
   "source": []
  }
 ],
 "metadata": {
  "kernelspec": {
   "display_name": "Python 3 (ipykernel)",
   "language": "python",
   "name": "python3"
  },
  "language_info": {
   "codemirror_mode": {
    "name": "ipython",
    "version": 3
   },
   "file_extension": ".py",
   "mimetype": "text/x-python",
   "name": "python",
   "nbconvert_exporter": "python",
   "pygments_lexer": "ipython3",
   "version": "3.12.7"
  }
 },
 "nbformat": 4,
 "nbformat_minor": 5
}
